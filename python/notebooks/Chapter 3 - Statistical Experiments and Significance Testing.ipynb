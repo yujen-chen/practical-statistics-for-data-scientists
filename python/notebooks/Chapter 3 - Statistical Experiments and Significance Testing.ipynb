{
 "cells": [
  {
   "cell_type": "markdown",
   "source": "# Practical Statistics for Data Scientists (Python)\n# Chapter 3. Statistial Experiments and Significance Testing\n> (c) 2019 Peter C. Bruce, Andrew Bruce, Peter Gedeck",
   "metadata": {
    "cell_id": "dffb4e7e-ec02-4470-a20d-9989d184e721",
    "deepnote_cell_type": "markdown",
    "deepnote_cell_height": 264.390625
   }
  },
  {
   "cell_type": "markdown",
   "source": "Import required Python packages.",
   "metadata": {
    "cell_id": "00001-d7e60024-53d2-4c8a-a022-1794a1bc194d",
    "deepnote_cell_type": "markdown",
    "deepnote_cell_height": 52.390625
   }
  },
  {
   "cell_type": "code",
   "metadata": {
    "execution": {
     "iopub.execute_input": "2022-04-26T19:41:55.755085Z",
     "iopub.status.busy": "2022-04-26T19:41:55.754759Z",
     "iopub.status.idle": "2022-04-26T19:41:57.008376Z",
     "shell.execute_reply": "2022-04-26T19:41:57.007576Z"
    },
    "cell_id": "00002-2caa012c-1053-486c-ab90-780077ccedb8",
    "deepnote_to_be_reexecuted": false,
    "source_hash": "1011c64c",
    "execution_start": 1665986299811,
    "execution_millis": 0,
    "deepnote_cell_type": "code",
    "deepnote_cell_height": 310
   },
   "source": "%matplotlib inline\n\nfrom pathlib import Path\nimport random\n\nimport pandas as pd\nimport numpy as np\n\nfrom scipy import stats\nimport statsmodels.api as sm\nimport statsmodels.formula.api as smf\nfrom statsmodels.stats import power\n\nimport matplotlib.pylab as plt",
   "execution_count": null,
   "outputs": []
  },
  {
   "cell_type": "code",
   "metadata": {
    "execution": {
     "iopub.execute_input": "2022-04-26T19:41:57.011631Z",
     "iopub.status.busy": "2022-04-26T19:41:57.011384Z",
     "iopub.status.idle": "2022-04-26T19:41:57.328759Z",
     "shell.execute_reply": "2022-04-26T19:41:57.328082Z"
    },
    "cell_id": "00003-93b36406-8cd0-400a-8333-23a18a8b3d21",
    "deepnote_to_be_reexecuted": false,
    "source_hash": "6496c44d",
    "execution_start": 1665856337820,
    "execution_millis": 105,
    "deepnote_cell_type": "code",
    "deepnote_cell_height": 148
   },
   "source": "try:\n    import common\n    DATA = common.dataDirectory()\nexcept ImportError:\n    DATA = Path().resolve() / 'data'",
   "execution_count": null,
   "outputs": []
  },
  {
   "cell_type": "markdown",
   "source": "Define paths to data sets. If you don't keep your data in the same directory as the code, adapt the path names.",
   "metadata": {
    "cell_id": "00004-c64f2ce9-20bf-41ae-a1c3-b2c265b32865",
    "deepnote_cell_type": "markdown",
    "deepnote_cell_height": 52.390625
   }
  },
  {
   "cell_type": "code",
   "metadata": {
    "execution": {
     "iopub.execute_input": "2022-04-26T19:41:57.332112Z",
     "iopub.status.busy": "2022-04-26T19:41:57.331921Z",
     "iopub.status.idle": "2022-04-26T19:41:57.335862Z",
     "shell.execute_reply": "2022-04-26T19:41:57.335174Z"
    },
    "cell_id": "00005-534e969e-b279-4d70-b29d-5a497e067160",
    "deepnote_to_be_reexecuted": false,
    "source_hash": "83cd12f0",
    "execution_start": 1665856338620,
    "execution_millis": 2,
    "deepnote_cell_type": "code",
    "deepnote_cell_height": 130
   },
   "source": "WEB_PAGE_DATA_CSV = DATA / 'web_page_data.csv'\nFOUR_SESSIONS_CSV = DATA / 'four_sessions.csv'\nCLICK_RATE_CSV = DATA / 'click_rates.csv'\nIMANISHI_CSV = DATA / 'imanishi_data.csv'",
   "execution_count": null,
   "outputs": []
  },
  {
   "cell_type": "markdown",
   "source": "# Classical Statistical Inference Pipeline\n1. Formulate hypothesis (treatment A is better than existing treatment)\n2. Design experiment (A/B test)\n3. Collect data \n4. Inference/Conclusion",
   "metadata": {
    "cell_id": "ae90759bcde04f3b80d8255795b93c67",
    "tags": [],
    "deepnote_cell_type": "markdown",
    "deepnote_cell_height": 210.5625
   }
  },
  {
   "cell_type": "markdown",
   "source": "# A/B Testing\n\nTwo groups with two different treatments, products, or procedures.\n\n- Treatment group\n- Control group",
   "metadata": {
    "cell_id": "174aed590a194cb3bd57ac193dad483c",
    "tags": [],
    "deepnote_cell_type": "markdown",
    "deepnote_cell_height": 196.171875
   }
  },
  {
   "cell_type": "markdown",
   "source": "# Hypothesis Testing\n\n- Null Hypothesis: No difference b/t A and B; A <= B; A is not X% greater than B\n- Alternative Hypothesis: A is different from B; A > B; A is X% greater than B\n\n- Most of time we conduct two-way (two-tail) hypothesis test ",
   "metadata": {
    "cell_id": "57c67b6c93cb4ba485d224b98ad41276",
    "tags": [],
    "deepnote_cell_type": "markdown",
    "deepnote_cell_height": 185.171875
   }
  },
  {
   "cell_type": "markdown",
   "source": "# Resampling\n\n- Bootstrap: assess the reliability of an estimate\n- Permutation: test hypothesis involving two or more groups\n\n\n## Premutation test\nInvolve two or more samples\n\n1. Combine the results from different groups\n2. Randomly draw and resample w/o replacement from the combined data to the same size as group A\n3. Repeat the above step but for group B\n4. Calculate the statistic for the resample groups and record it. This is one permutation iteration\n5. Repeat the previous steps R times to yeild a permutation distribution\n\nCompare the observed difference between groups and permuted differences:\n- If the observed difference is within the set of permuted difference, it means nothing\n- If the observed difference is not within the set of permuted difference, the difference is statistically significant\n",
   "metadata": {
    "cell_id": "00006-5e74e64c-9ecb-439d-8d63-2f2af6756038",
    "deepnote_cell_type": "markdown",
    "deepnote_cell_height": 488.296875
   }
  },
  {
   "cell_type": "code",
   "metadata": {
    "execution": {
     "iopub.execute_input": "2022-04-26T19:41:57.338189Z",
     "iopub.status.busy": "2022-04-26T19:41:57.337928Z",
     "iopub.status.idle": "2022-04-26T19:41:57.348869Z",
     "shell.execute_reply": "2022-04-26T19:41:57.347829Z"
    },
    "cell_id": "00007-e351c7ea-e911-4278-94a0-6a2061aae1b5",
    "deepnote_to_be_reexecuted": false,
    "source_hash": "f24cfe31",
    "execution_start": 1665725498003,
    "execution_millis": 2,
    "deepnote_cell_type": "code",
    "deepnote_cell_height": 444
   },
   "source": "session_times = pd.read_csv(WEB_PAGE_DATA_CSV)\nsession_times.Time = 100 * session_times.Time\n\nsession_times.head(5)",
   "execution_count": null,
   "outputs": [
    {
     "output_type": "execute_result",
     "execution_count": 4,
     "data": {
      "application/vnd.deepnote.dataframe.v3+json": {
       "column_count": 2,
       "row_count": 5,
       "columns": [
        {
         "name": "Page",
         "dtype": "object",
         "stats": {
          "unique_count": 2,
          "nan_count": 0,
          "categories": [
           {
            "name": "Page A",
            "count": 3
           },
           {
            "name": "Page B",
            "count": 2
           }
          ]
         }
        },
        {
         "name": "Time",
         "dtype": "float64",
         "stats": {
          "unique_count": 5,
          "nan_count": 0,
          "min": "21.0",
          "max": "252.99999999999997",
          "histogram": [
           {
            "bin_start": 21,
            "bin_end": 44.199999999999996,
            "count": 2
           },
           {
            "bin_start": 44.199999999999996,
            "bin_end": 67.39999999999999,
            "count": 1
           },
           {
            "bin_start": 67.39999999999999,
            "bin_end": 90.6,
            "count": 1
           },
           {
            "bin_start": 90.6,
            "bin_end": 113.79999999999998,
            "count": 0
           },
           {
            "bin_start": 113.79999999999998,
            "bin_end": 136.99999999999997,
            "count": 0
           },
           {
            "bin_start": 136.99999999999997,
            "bin_end": 160.2,
            "count": 0
           },
           {
            "bin_start": 160.2,
            "bin_end": 183.39999999999998,
            "count": 0
           },
           {
            "bin_start": 183.39999999999998,
            "bin_end": 206.59999999999997,
            "count": 0
           },
           {
            "bin_start": 206.59999999999997,
            "bin_end": 229.79999999999995,
            "count": 0
           },
           {
            "bin_start": 229.79999999999995,
            "bin_end": 252.99999999999997,
            "count": 1
           }
          ]
         }
        },
        {
         "name": "_deepnote_index_column",
         "dtype": "int64"
        }
       ],
       "rows": [
        {
         "Page": "Page A",
         "Time": "21.0",
         "_deepnote_index_column": "0"
        },
        {
         "Page": "Page B",
         "Time": "252.99999999999997",
         "_deepnote_index_column": "1"
        },
        {
         "Page": "Page A",
         "Time": "35.0",
         "_deepnote_index_column": "2"
        },
        {
         "Page": "Page B",
         "Time": "71.0",
         "_deepnote_index_column": "3"
        },
        {
         "Page": "Page A",
         "Time": "67.0",
         "_deepnote_index_column": "4"
        }
       ]
      },
      "text/plain": "     Page   Time\n0  Page A   21.0\n1  Page B  253.0\n2  Page A   35.0\n3  Page B   71.0\n4  Page A   67.0",
      "text/html": "<div>\n<style scoped>\n    .dataframe tbody tr th:only-of-type {\n        vertical-align: middle;\n    }\n\n    .dataframe tbody tr th {\n        vertical-align: top;\n    }\n\n    .dataframe thead th {\n        text-align: right;\n    }\n</style>\n<table border=\"1\" class=\"dataframe\">\n  <thead>\n    <tr style=\"text-align: right;\">\n      <th></th>\n      <th>Page</th>\n      <th>Time</th>\n    </tr>\n  </thead>\n  <tbody>\n    <tr>\n      <th>0</th>\n      <td>Page A</td>\n      <td>21.0</td>\n    </tr>\n    <tr>\n      <th>1</th>\n      <td>Page B</td>\n      <td>253.0</td>\n    </tr>\n    <tr>\n      <th>2</th>\n      <td>Page A</td>\n      <td>35.0</td>\n    </tr>\n    <tr>\n      <th>3</th>\n      <td>Page B</td>\n      <td>71.0</td>\n    </tr>\n    <tr>\n      <th>4</th>\n      <td>Page A</td>\n      <td>67.0</td>\n    </tr>\n  </tbody>\n</table>\n</div>"
     },
     "metadata": {}
    }
   ]
  },
  {
   "cell_type": "code",
   "metadata": {
    "execution": {
     "iopub.execute_input": "2022-04-26T19:41:57.351676Z",
     "iopub.status.busy": "2022-04-26T19:41:57.351460Z",
     "iopub.status.idle": "2022-04-26T19:41:57.458249Z",
     "shell.execute_reply": "2022-04-26T19:41:57.457423Z"
    },
    "cell_id": "00008-8504e54e-9210-4d5a-afb7-b8f587133fc7",
    "deepnote_to_be_reexecuted": false,
    "source_hash": "5ea5bf47",
    "execution_start": 1665725498004,
    "execution_millis": 204,
    "deepnote_cell_type": "code",
    "deepnote_cell_height": 594,
    "deepnote_output_heights": [
     376
    ]
   },
   "source": "ax = session_times.boxplot(by='Page', column='Time',\n                           figsize=(4, 4))\nax.set_xlabel('')\nax.set_ylabel('Time (in seconds)')\nplt.suptitle('')\n\nplt.tight_layout()\nplt.show()",
   "execution_count": null,
   "outputs": [
    {
     "data": {
      "text/plain": "<Figure size 400x400 with 1 Axes>",
      "image/png": "[encoded data removed]"
     },
     "metadata": {
      "image/png": {
       "width": 389,
       "height": 375
      }
     },
     "output_type": "display_data"
    }
   ]
  },
  {
   "cell_type": "code",
   "metadata": {
    "execution": {
     "iopub.execute_input": "2022-04-26T19:41:57.461597Z",
     "iopub.status.busy": "2022-04-26T19:41:57.461309Z",
     "iopub.status.idle": "2022-04-26T19:41:57.472375Z",
     "shell.execute_reply": "2022-04-26T19:41:57.471581Z"
    },
    "cell_id": "00009-b13ef351-3d8f-473b-838c-b915d48846a5",
    "deepnote_to_be_reexecuted": false,
    "source_hash": "7d674877",
    "execution_start": 1665725498251,
    "execution_millis": 2,
    "deepnote_cell_type": "code",
    "deepnote_cell_height": 161.1875
   },
   "source": "# observed difference\nmean_a = session_times[session_times.Page == 'Page A'].Time.mean()\nmean_b = session_times[session_times.Page == 'Page B'].Time.mean()\nprint(mean_b - mean_a)",
   "execution_count": null,
   "outputs": [
    {
     "name": "stdout",
     "text": "35.66666666666667\n",
     "output_type": "stream"
    }
   ]
  },
  {
   "cell_type": "markdown",
   "source": "The following code is different to the R version. idx_A and idx_B are reversed.",
   "metadata": {
    "cell_id": "00010-d607fce9-4a7d-4159-89c0-e1531cc6ebe6",
    "deepnote_cell_type": "markdown",
    "deepnote_cell_height": 52.390625
   }
  },
  {
   "cell_type": "code",
   "metadata": {
    "execution": {
     "iopub.execute_input": "2022-04-26T19:41:57.475366Z",
     "iopub.status.busy": "2022-04-26T19:41:57.475178Z",
     "iopub.status.idle": "2022-04-26T19:41:57.484099Z",
     "shell.execute_reply": "2022-04-26T19:41:57.483327Z"
    },
    "cell_id": "00011-50c36625-6689-4503-bfe4-d769dc29dbaf",
    "deepnote_to_be_reexecuted": false,
    "source_hash": "c812832b",
    "execution_start": 1665725498252,
    "execution_millis": 2,
    "deepnote_cell_type": "code",
    "deepnote_cell_height": 379.375
   },
   "source": "# Permutation test example with stickiness\n# permuted difference \ndef perm_fun(x, nA, nB):\n    \"x: original dataframe\"\n    \"nA: sample size of group A\"\n    \"nB: sample size of group B\"\n    n = nA + nB\n    idx_B = set(random.sample(range(n), nB))\n    idx_A = set(range(n)) - idx_B\n    return x.loc[list(idx_B)].mean() - x.loc[list(idx_A)].mean()\n    \nnA = session_times[session_times.Page == 'Page A'].shape[0]\nnB = session_times[session_times.Page == 'Page B'].shape[0]\nprint(nA, nB)\nprint(perm_fun(session_times.Time, nA, nB))",
   "execution_count": null,
   "outputs": [
    {
     "name": "stdout",
     "text": "21 15\n9.609523809523807\n",
     "output_type": "stream"
    }
   ]
  },
  {
   "cell_type": "code",
   "metadata": {
    "execution": {
     "iopub.execute_input": "2022-04-26T19:41:57.486863Z",
     "iopub.status.busy": "2022-04-26T19:41:57.486662Z",
     "iopub.status.idle": "2022-04-26T19:41:58.340105Z",
     "shell.execute_reply": "2022-04-26T19:41:58.339396Z"
    },
    "scrolled": false,
    "cell_id": "00012-d8731914-07ba-4ac4-b152-a53f4f93e865",
    "deepnote_to_be_reexecuted": false,
    "source_hash": "76e5abfc",
    "execution_start": 1665725498558,
    "execution_millis": 442,
    "deepnote_cell_type": "code",
    "deepnote_cell_height": 853,
    "deepnote_output_heights": [
     491
    ]
   },
   "source": "# draw the histogram of all 1000 premuted resampled mean differences \n# add a line of observed mean difference from original data\n# next setp is to see if this line fall into the 95% of histogram\n# if yes, the difference is not statistically significant. Otherwise, it is.\nrandom.seed(1)\nperm_diffs = [perm_fun(session_times.Time, nA, nB) for _ in range(1000)]\n\nfig, ax = plt.subplots(figsize=(5, 5))\nax.hist(perm_diffs, bins=11, rwidth=0.9)\nax.axvline(x = mean_b - mean_a, color='black', lw=2)\nax.text(50, 190, 'Observed\\ndifference', bbox={'facecolor':'white'})\nax.set_xlabel('Session time differences (in seconds)')\nax.set_ylabel('Frequency')\n\nplt.tight_layout()\nplt.show()",
   "execution_count": null,
   "outputs": [
    {
     "data": {
      "text/plain": "<Figure size 500x500 with 1 Axes>",
      "image/png": "[encoded data removed]"
     },
     "metadata": {
      "image/png": {
       "width": 490,
       "height": 490
      }
     },
     "output_type": "display_data"
    }
   ]
  },
  {
   "cell_type": "code",
   "metadata": {
    "execution": {
     "iopub.execute_input": "2022-04-26T19:41:58.344077Z",
     "iopub.status.busy": "2022-04-26T19:41:58.343880Z",
     "iopub.status.idle": "2022-04-26T19:41:58.348849Z",
     "shell.execute_reply": "2022-04-26T19:41:58.348187Z"
    },
    "cell_id": "00013-02aee4a5-5c0a-47ce-82ca-98b96b1b146c",
    "deepnote_to_be_reexecuted": false,
    "source_hash": "4ac9ab33",
    "execution_start": 1665725498999,
    "execution_millis": 3,
    "deepnote_cell_type": "code",
    "deepnote_cell_height": 143.1875
   },
   "source": "# convert perm_diffs to numpy array to avoid problems with some Python installations\nperm_diffs = np.array(perm_diffs)\nprint(np.mean(perm_diffs > mean_b - mean_a))",
   "execution_count": null,
   "outputs": [
    {
     "name": "stdout",
     "text": "0.121\n",
     "output_type": "stream"
    }
   ]
  },
  {
   "cell_type": "markdown",
   "source": "# Statistical Significance and P-Values\n\n## Statistical Significance\nIf the result is beyond the realm of chance variation, it is said to be statistically significant.\n",
   "metadata": {
    "cell_id": "00014-8b979827-2fbf-4d30-8111-d6137ecf32b4",
    "deepnote_cell_type": "markdown",
    "deepnote_cell_height": 176.390625
   }
  },
  {
   "cell_type": "code",
   "metadata": {
    "execution": {
     "iopub.execute_input": "2022-04-26T19:41:58.351537Z",
     "iopub.status.busy": "2022-04-26T19:41:58.351361Z",
     "iopub.status.idle": "2022-04-26T19:42:21.707046Z",
     "shell.execute_reply": "2022-04-26T19:42:21.705887Z"
    },
    "cell_id": "00015-f2f6ae0c-57f8-4ea9-9779-4a2a907a5990",
    "deepnote_to_be_reexecuted": false,
    "source_hash": "14c2806a",
    "execution_start": 1665725499043,
    "execution_millis": 22547,
    "deepnote_cell_type": "code",
    "deepnote_cell_height": 1060.1875,
    "deepnote_output_heights": [
     null,
     490
    ]
   },
   "source": "random.seed(1)\n# the observed difference\nobs_pct_diff = 100 * (200 / 23739 - 182 / 22588)\nprint(f'Observed difference: {obs_pct_diff:.4f}%')\n\n# convert to cards of 1s and 0s\nconversion = [0] * 45945\nconversion.extend([1] * 382)\nconversion = pd.Series(conversion)\n\n# create 1000 difference through the loop\nperm_diffs = [100 * perm_fun(conversion, 23739, 22588) \n              for _ in range(1000)]\n\n# draw the histogram of perm_diffs\n# draw the observed difference\nfig, ax = plt.subplots(figsize=(5, 5))\nax.hist(perm_diffs, bins=11, rwidth=0.9)\nax.axvline(x=obs_pct_diff, color='black', lw=2)\nax.text(0.06, 200, 'Observed\\ndifference', bbox={'facecolor':'white'})\nax.set_xlabel('Conversion rate (percent)')\nax.set_ylabel('Frequency')\n\nplt.tight_layout()\nplt.show()",
   "execution_count": null,
   "outputs": [
    {
     "name": "stdout",
     "text": "Observed difference: 0.0368%\n",
     "output_type": "stream"
    },
    {
     "data": {
      "text/plain": "<Figure size 500x500 with 1 Axes>",
      "image/png": "[encoded data removed]"
     },
     "metadata": {
      "image/png": {
       "width": 490,
       "height": 489
      }
     },
     "output_type": "display_data"
    }
   ]
  },
  {
   "cell_type": "markdown",
   "source": "## P-Value\nIf `np.mean` is applied to a list of booleans, it gives the percentage of how often True was found in the list (#True / #Total).\nHow many perm_diff in perm_diffs array is greater than the observed difference\n\n- If p-value is small, then it means the tail beyond the test statistic of observed value is small and far away from the null hypothesis. The result supports the alternative hypothesis more than the null hypothesis\n- In general, if p-value is less than 5% (known as **Alpha**), it is considered as statistically significant and we will reject the null hypothesis",
   "metadata": {
    "cell_id": "00016-25c7f0a7-651a-4275-b5be-6cf691c528ae",
    "deepnote_cell_type": "markdown",
    "deepnote_cell_height": 228.953125
   }
  },
  {
   "cell_type": "code",
   "metadata": {
    "execution": {
     "iopub.execute_input": "2022-04-26T19:42:21.710290Z",
     "iopub.status.busy": "2022-04-26T19:42:21.710026Z",
     "iopub.status.idle": "2022-04-26T19:42:21.716579Z",
     "shell.execute_reply": "2022-04-26T19:42:21.715611Z"
    },
    "cell_id": "00017-65b63da3-c354-4a17-b190-aaa8ba657279",
    "deepnote_to_be_reexecuted": false,
    "source_hash": "49826399",
    "execution_start": 1665725520873,
    "execution_millis": 720,
    "deepnote_cell_type": "code",
    "deepnote_cell_height": 143.1875
   },
   "source": "# the p-value is 0.332 and is greater than 5%. \n# We cannot reject the null hypothesis and the difference is not statistically significant\nprint(np.mean([diff > obs_pct_diff for diff in perm_diffs]))",
   "execution_count": null,
   "outputs": [
    {
     "name": "stdout",
     "text": "0.332\n",
     "output_type": "stream"
    }
   ]
  },
  {
   "cell_type": "code",
   "metadata": {
    "execution": {
     "iopub.execute_input": "2022-04-26T19:42:21.719575Z",
     "iopub.status.busy": "2022-04-26T19:42:21.719144Z",
     "iopub.status.idle": "2022-04-26T19:42:21.724924Z",
     "shell.execute_reply": "2022-04-26T19:42:21.724015Z"
    },
    "cell_id": "00018-2ef53918-fa03-400c-90f9-edbf7a78f8d8",
    "deepnote_to_be_reexecuted": false,
    "source_hash": "d0e7a60a",
    "execution_start": 1665725520894,
    "execution_millis": 703,
    "deepnote_cell_type": "code",
    "deepnote_cell_height": 161.1875
   },
   "source": "survivors = np.array([[200, 23739 - 200], [182, 22588 - 182]])\nchi2, p_value, df, _ = stats.chi2_contingency(survivors)\n\nprint(f'p-value for single sided test: {p_value / 2:.4f}')",
   "execution_count": null,
   "outputs": [
    {
     "name": "stdout",
     "text": "p-value for single sided test: 0.3498\n",
     "output_type": "stream"
    }
   ]
  },
  {
   "cell_type": "markdown",
   "source": "# Type 1 and Type 2 Errors\n\n- Type 1 Error: mistakenly conclude an effect is real while it is really due to chance\n- Type 2 Error: mistakenly conclude an effect is not real (due to chance) but it is actually real",
   "metadata": {
    "cell_id": "bde5db5a723e4aaf9771f5b8aece6afd",
    "tags": [],
    "deepnote_cell_type": "markdown",
    "deepnote_cell_height": 159.78125
   }
  },
  {
   "cell_type": "markdown",
   "source": "# t-Tests\n\nSteps:\n0. Decide Null Hypothesis\n1. Calculate t-statistic\n$t=\\frac{\\bar X_1 - \\bar X_2}{s_{x_1x_2}\\sqrt{\\frac{1}{n_1}+\\frac{1}{n_2}}}$\nWhere \n$s_{x_1x_2}=\\sqrt{\\frac {(n_1-1)s^2_{X_1}+(n_2-1)s^2_{X_2}}{n_1+n_2-2}}$\n2. Calculate DOF = n1+n2-2\n3. Decide Alpha\n4. If abs(t-stat) > alpha: statistically significant; otherwise, no statistically significant\n\n\nReference: \n- https://zh.surveymonkey.com/mp/t-tests-explained/\n- https://www.sjsu.edu/faculty/gerstman/StatPrimer/t-table.pdf\n- https://highscope.ch.ntu.edu.tw/wordpress/?p=70353",
   "metadata": {
    "cell_id": "00019-5f7a9ff5-5b42-4039-9c1d-de3b38ed7666",
    "deepnote_cell_type": "markdown",
    "deepnote_cell_height": 485.5625
   }
  },
  {
   "cell_type": "code",
   "metadata": {
    "execution": {
     "iopub.execute_input": "2022-04-26T19:42:21.729209Z",
     "iopub.status.busy": "2022-04-26T19:42:21.728975Z",
     "iopub.status.idle": "2022-04-26T19:42:21.735487Z",
     "shell.execute_reply": "2022-04-26T19:42:21.734555Z"
    },
    "cell_id": "00020-43870736-c405-4081-8868-e7018cd366b2",
    "deepnote_to_be_reexecuted": false,
    "source_hash": "a466f033",
    "execution_start": 1665725520895,
    "execution_millis": 702,
    "deepnote_cell_type": "code",
    "deepnote_cell_height": 199.375
   },
   "source": "res = stats.ttest_ind(session_times[session_times.Page == 'Page A'].Time, \n                      session_times[session_times.Page == 'Page B'].Time,\n                      equal_var=False)\nprint(res)\nprint(f'p-value for single sided test: {res.pvalue / 2:.4f}')",
   "execution_count": null,
   "outputs": [
    {
     "name": "stdout",
     "text": "Ttest_indResult(statistic=-1.098315562363811, pvalue=0.2815243724570064)\np-value for single sided test: 0.1408\n",
     "output_type": "stream"
    }
   ]
  },
  {
   "cell_type": "code",
   "metadata": {
    "execution": {
     "iopub.execute_input": "2022-04-26T19:42:21.739558Z",
     "iopub.status.busy": "2022-04-26T19:42:21.739291Z",
     "iopub.status.idle": "2022-04-26T19:42:21.747649Z",
     "shell.execute_reply": "2022-04-26T19:42:21.746446Z"
    },
    "cell_id": "00021-356b05f8-956a-47a1-aa3f-4f60e1791de7",
    "deepnote_to_be_reexecuted": false,
    "source_hash": "85cd5be8",
    "execution_start": 1665725520895,
    "execution_millis": 704,
    "deepnote_cell_type": "code",
    "deepnote_cell_height": 255.5625
   },
   "source": "tstat, pvalue, df = sm.stats.ttest_ind(\n    session_times[session_times.Page == 'Page A'].Time, \n    session_times[session_times.Page == 'Page B'].Time,\n    usevar='unequal', alternative='smaller')\nprint(tstat)\nprint(df)\nprint(f'p-value: {pvalue:.4f}')",
   "execution_count": null,
   "outputs": [
    {
     "name": "stdout",
     "text": "-1.098315562363811\n27.693370059531322\np-value: 0.1408\n",
     "output_type": "stream"
    }
   ]
  },
  {
   "cell_type": "markdown",
   "source": "Different tests (permuted resampling, t-test) generate different p-values but those are similar to each other. The results show that the difference are not statistically significant.",
   "metadata": {
    "cell_id": "62e8a99d23a74c629e2400af60160d41",
    "tags": [],
    "deepnote_cell_type": "markdown",
    "deepnote_cell_height": 74.78125
   }
  },
  {
   "cell_type": "markdown",
   "source": "# ANOVA\n\n- To compare multiple groups with numeric data, we use Analysis of Variance or ANOVA\n",
   "metadata": {
    "cell_id": "00022-b2f03e4e-b5f4-40a1-846a-6e6b318a6d33",
    "deepnote_cell_type": "markdown",
    "deepnote_cell_height": 134.390625
   }
  },
  {
   "cell_type": "code",
   "metadata": {
    "execution": {
     "iopub.execute_input": "2022-04-26T19:42:21.751186Z",
     "iopub.status.busy": "2022-04-26T19:42:21.750977Z",
     "iopub.status.idle": "2022-04-26T19:42:21.897765Z",
     "shell.execute_reply": "2022-04-26T19:42:21.896620Z"
    },
    "cell_id": "00023-0d4e0976-a312-4393-8f7c-7c875f87a765",
    "deepnote_to_be_reexecuted": false,
    "source_hash": "7b79266b",
    "execution_start": 1665725520899,
    "execution_millis": 753,
    "deepnote_cell_type": "code",
    "deepnote_cell_height": 648,
    "deepnote_output_heights": [
     376
    ]
   },
   "source": "four_sessions = pd.read_csv(FOUR_SESSIONS_CSV)\n\nax = four_sessions.boxplot(by='Page', column='Time',\n                           figsize=(4, 4))\nax.set_xlabel('Page')\nax.set_ylabel('Time (in seconds)')\nplt.suptitle('')\nplt.title('')\n\nplt.tight_layout()\nplt.show()",
   "execution_count": null,
   "outputs": [
    {
     "data": {
      "text/plain": "<Figure size 400x400 with 1 Axes>",
      "image/png": "[encoded data removed]"
     },
     "metadata": {
      "image/png": {
       "width": 390,
       "height": 375
      }
     },
     "output_type": "display_data"
    }
   ]
  },
  {
   "cell_type": "markdown",
   "source": "## ANOVA Procedure\nExample: Examine the variance among A/B/C/D groups. The following procedure can be seen as a resampling procedure\n\n\n1. combine all the data together\n2. randomly draw the out four resamples \n3. record the mean of each of the four groups\n4. record the variance among the four group means\n5. Repeat steps 2 -4 1000 times\n5. Calculate the p-value: the proportion of time the resampled variance exceed the observed variance\n\nThis is a \"one-way\" ANOVA as there is only one factor varying (group)\n\n\n",
   "metadata": {
    "cell_id": "6f1c6c9f4c1c4c92b8ed903f1ec6e97f",
    "tags": [],
    "deepnote_cell_type": "markdown",
    "deepnote_cell_height": 308.125
   }
  },
  {
   "cell_type": "code",
   "metadata": {
    "execution": {
     "iopub.execute_input": "2022-04-26T19:42:21.900869Z",
     "iopub.status.busy": "2022-04-26T19:42:21.900292Z",
     "iopub.status.idle": "2022-04-26T19:42:21.911676Z",
     "shell.execute_reply": "2022-04-26T19:42:21.910836Z"
    },
    "cell_id": "00024-86d9f023-4bec-47f1-a45d-1e280704e942",
    "deepnote_to_be_reexecuted": false,
    "source_hash": "1419be6a",
    "execution_start": 1665725521143,
    "execution_millis": 510,
    "deepnote_cell_type": "code",
    "deepnote_cell_height": 208.125
   },
   "source": "print(pd.read_csv(FOUR_SESSIONS_CSV).head())",
   "execution_count": null,
   "outputs": [
    {
     "name": "stdout",
     "text": "     Page  Time\n0  Page 1   164\n1  Page 2   178\n2  Page 3   175\n3  Page 4   155\n4  Page 1   172\n",
     "output_type": "stream"
    }
   ]
  },
  {
   "cell_type": "code",
   "metadata": {
    "execution": {
     "iopub.execute_input": "2022-04-26T19:42:21.915209Z",
     "iopub.status.busy": "2022-04-26T19:42:21.914517Z",
     "iopub.status.idle": "2022-04-26T19:42:21.927224Z",
     "shell.execute_reply": "2022-04-26T19:42:21.926407Z"
    },
    "cell_id": "00025-1ac12452-2eef-44a8-9252-ac88ceac6a16",
    "deepnote_to_be_reexecuted": false,
    "source_hash": "e7c0145b",
    "execution_start": 1665725521144,
    "execution_millis": 509,
    "deepnote_cell_type": "code",
    "deepnote_cell_height": 345.5625
   },
   "source": "observed_variance = four_sessions.groupby('Page').mean().var()[0]\nprint('Observed means:', four_sessions.groupby('Page').mean().values.ravel())\nprint('Observed variance:', observed_variance)\n# Permutation test example with stickiness\ndef perm_test(df):\n    df = df.copy()\n    # np.random.permutation is to randomly permute a sequence\n    # dataframe[<col-name>].values returns np.array \n    df['Time'] = np.random.permutation(df['Time'].values)  \n    return df.groupby('Page').mean().var()[0]\n    \nprint('one-time perm_test variance of means:', perm_test(four_sessions))",
   "execution_count": null,
   "outputs": [
    {
     "name": "stdout",
     "text": "Observed means: [172.8 182.6 175.6 164.6]\nObserved variance: 55.426666666666655\none-time perm_test variance of means: 39.47999999999999\n",
     "output_type": "stream"
    }
   ]
  },
  {
   "cell_type": "code",
   "metadata": {
    "execution": {
     "iopub.execute_input": "2022-04-26T19:42:21.930000Z",
     "iopub.status.busy": "2022-04-26T19:42:21.929797Z",
     "iopub.status.idle": "2022-04-26T19:42:25.947396Z",
     "shell.execute_reply": "2022-04-26T19:42:25.946552Z"
    },
    "cell_id": "00026-fc306eea-c150-4a13-a3a9-72c9d43b8fd3",
    "deepnote_to_be_reexecuted": false,
    "source_hash": "4ab7114f",
    "execution_start": 1665725521187,
    "execution_millis": 4305,
    "deepnote_cell_type": "code",
    "deepnote_cell_height": 863.1875,
    "deepnote_output_heights": [
     null,
     491
    ]
   },
   "source": "random.seed(1)\n# repeat resampling the variance of means 3000 times\nperm_variance = [perm_test(four_sessions) for _ in range(3000)]\nprint('Pr(Prob)', np.mean([var > observed_variance for var in perm_variance]))\n\nfig, ax = plt.subplots(figsize=(5, 5))\nax.hist(perm_variance, bins=11, rwidth=0.9)\nax.axvline(x = observed_variance, color='black', lw=2)\nax.text(60, 200, 'Observed\\nvariance', bbox={'facecolor':'white'})\nax.set_xlabel('Variance')\nax.set_ylabel('Frequency')\n\nplt.tight_layout()\nplt.show()",
   "execution_count": null,
   "outputs": [
    {
     "name": "stdout",
     "text": "Pr(Prob) 0.076\n",
     "output_type": "stream"
    },
    {
     "data": {
      "text/plain": "<Figure size 500x500 with 1 Axes>",
      "image/png": "[encoded data removed]"
     },
     "metadata": {
      "image/png": {
       "width": 490,
       "height": 490
      }
     },
     "output_type": "display_data"
    }
   ]
  },
  {
   "cell_type": "markdown",
   "source": "## F-Statistic\n- Using statsmodel to do ANOVA based on the F-Statistic\n- The F-statistic is based on the ratio of (the variance across group means) to (the variance due to residual error)\n- The higher the ratio, the more statistically significant the result\n\n### ANOVA\n**Assumption**\n1. Variance of each group are the same ($$s^2=\\frac {\\sum {(x_i-\\bar x)^2}}{n-1}$$)\n2. Each group are normally distributed\n3. Each sample are randomly drawn\n\n\nGoal: Examine the mean difference among different groups\nNull hypothesis: The mean in differnt groups are the same\n\n**Two important terms**\n- Sum of Square Between = $$SS_B=\\sum_{Group}{n_{group \\space size}\\times (\\bar X_{group} - \\bar X_{total})^2}$$\n- Sum of Square Within = $$SS_W=\\sum_{allgroup}\\sum_{allgroupsample}({X_{gi}-\\bar X_{group}})^2$$\n- Mean Square Between = $$MS_B=SS_B/df_B$$ \n- Mean Square Within = $$MS_W=SS_W/df_W$$\n- $$df_B=group \\space number-1$$ \n- $$df_W=(total \\space sample \\space size -1)-(group \\space number-1)$$ \n\nAlternative Hypothesis: The difference of mean among group are significant\n\nIn order to reject Null, we want large value of MSB/MSW, which is F-stat\n\nRef: \n1. https://zhuanlan.zhihu.com/p/57896471\n2. https://belleaya.pixnet.net/blog/post/30754486-%5B%E6%95%99%E5%AD%B8%5D-%5B%E7%B5%B1%E8%A8%88%5D-anova%E8%AE%8A%E7%95%B0%E6%95%B8%E5%88%86%E6%9E%90-%E5%B0%8F%E7%AD%86%E8%A8%98\n\n\n",
   "metadata": {
    "cell_id": "00027-973e51c9-e252-4796-92f2-99eff05a402d",
    "deepnote_cell_type": "markdown",
    "deepnote_cell_height": 801.78125
   }
  },
  {
   "cell_type": "code",
   "metadata": {
    "execution": {
     "iopub.execute_input": "2022-04-26T19:42:25.950745Z",
     "iopub.status.busy": "2022-04-26T19:42:25.950256Z",
     "iopub.status.idle": "2022-04-26T19:42:25.966666Z",
     "shell.execute_reply": "2022-04-26T19:42:25.965805Z"
    },
    "cell_id": "00028-93c54cda-560c-4348-afff-52481291b443",
    "deepnote_to_be_reexecuted": false,
    "source_hash": "c5f5c90e",
    "execution_start": 1665725525500,
    "execution_millis": 3,
    "deepnote_cell_type": "code",
    "deepnote_cell_height": 201.5625
   },
   "source": "model = smf.ols('Time ~ Page', data=four_sessions).fit()\n# F = mean squared deviation of page / mean squared deviation of residual                \naov_table = sm.stats.anova_lm(model)\nprint(aov_table)",
   "execution_count": null,
   "outputs": [
    {
     "name": "stdout",
     "text": "            df  sum_sq     mean_sq         F    PR(>F)\nPage       3.0   831.4  277.133333  2.739825  0.077586\nResidual  16.0  1618.4  101.150000       NaN       NaN\n",
     "output_type": "stream"
    }
   ]
  },
  {
   "cell_type": "code",
   "metadata": {
    "execution": {
     "iopub.execute_input": "2022-04-26T19:42:25.969823Z",
     "iopub.status.busy": "2022-04-26T19:42:25.969091Z",
     "iopub.status.idle": "2022-04-26T19:42:25.977569Z",
     "shell.execute_reply": "2022-04-26T19:42:25.976760Z"
    },
    "cell_id": "00029-7a8aa1b9-33dc-4d73-a5a2-1aedcb947479",
    "deepnote_to_be_reexecuted": false,
    "source_hash": "a8b9ca0a",
    "execution_start": 1665725525547,
    "execution_millis": 2,
    "deepnote_cell_type": "code",
    "deepnote_cell_height": 217.375
   },
   "source": "res = stats.f_oneway(four_sessions[four_sessions.Page == 'Page 1'].Time, \n                     four_sessions[four_sessions.Page == 'Page 2'].Time,\n                     four_sessions[four_sessions.Page == 'Page 3'].Time,\n                     four_sessions[four_sessions.Page == 'Page 4'].Time)\nprint(f'F-Statistic: {res.statistic / 2:.4f}')\nprint(f'p-value: {res.pvalue / 2:.4f}')",
   "execution_count": null,
   "outputs": [
    {
     "name": "stdout",
     "text": "F-Statistic: 1.3699\np-value: 0.0388\n",
     "output_type": "stream"
    }
   ]
  },
  {
   "cell_type": "markdown",
   "source": "### Two-way anova only available with statsmodels\n\n- There are two factors varying (supp and dose)\n- Add an interaction factor: supp and dose\n\n```\nformula = 'len ~ C(supp) + C(dose) + C(supp):C(dose)'\nmodel = ols(formula, data).fit()\naov_table = anova_lm(model, typ=2)\n```",
   "metadata": {
    "cell_id": "00030-ddb3e0dd-c399-49d8-b3aa-f3af5118b5b8",
    "deepnote_cell_type": "markdown",
    "deepnote_cell_height": 222.171875
   }
  },
  {
   "cell_type": "markdown",
   "source": "# Chi-Square Test\n\n- Chi-Square test is used with count data to test how well it fits some expected distribution\n- Most commonly used in row by column contingency tables\n- Goal: examine the each cell is independent\n\n\n- Use example in reference \nReference:\n- https://belleaya.pixnet.net/blog/post/30844198\n- http://www.math.nsysu.edu.tw/~lomn/homepage/R/R_testing.htm\n\n\n## Chi-Square Test: A Resampling Approach",
   "metadata": {
    "cell_id": "00031-3c7d1139-1c54-4d6d-9893-00774f254e5c",
    "deepnote_cell_type": "markdown",
    "deepnote_cell_height": 348.734375
   }
  },
  {
   "cell_type": "code",
   "metadata": {
    "execution": {
     "iopub.execute_input": "2022-04-26T19:42:25.980996Z",
     "iopub.status.busy": "2022-04-26T19:42:25.980245Z",
     "iopub.status.idle": "2022-04-26T19:42:25.992905Z",
     "shell.execute_reply": "2022-04-26T19:42:25.991946Z"
    },
    "cell_id": "00032-94904c21-4d86-4a2d-8274-14b361be4640",
    "deepnote_to_be_reexecuted": false,
    "source_hash": "cc6a9c8c",
    "execution_start": 1665856402779,
    "execution_millis": 92,
    "deepnote_cell_type": "code",
    "deepnote_cell_height": 221.75
   },
   "source": "# Table 3-4\nclick_rate = pd.read_csv(CLICK_RATE_CSV)\nclicks = click_rate.pivot(index='Click', columns='Headline', values='Rate')\nprint(clicks)",
   "execution_count": null,
   "outputs": [
    {
     "name": "stdout",
     "text": "Headline  Headline A  Headline B  Headline C\nClick                                       \nClick             14           8          12\nNo-click         986         992         988\n",
     "output_type": "stream"
    }
   ]
  },
  {
   "cell_type": "markdown",
   "source": "11.333 is calculated as followed:\n1. sum up the counts along row and colume\n    a. along row: 34, 2966\n    b. along column: 1000, 1000, 1000\n2. the expected value for each cell is calcualted as \n    a. The expected pct. in (Headline A, Click) cell is 34/3000*1000/3000 \n    b. The expected value is calculated as expected pct. times the total counts = 34/3000*1000/3000*3000 = 11.333\n\nHow to calculate chi-square value and its p-value?\n1. $$\\chi^2=\\sum{\\frac{(observed_i-expected_i)^2}{expected_i}}$$\n2. once we have chi-square value and DF ((row-1)*(col-1)), we can use table to check its p-value\n\n\nreference:\nhttps://people.richland.edu/james/lecture/m170/tbl-chi.html\n",
   "metadata": {
    "cell_id": "a8fe27eaf81041b88671b611dd5ed535",
    "tags": [],
    "deepnote_cell_type": "markdown",
    "deepnote_cell_height": 365.21875
   }
  },
  {
   "cell_type": "code",
   "metadata": {
    "execution": {
     "iopub.execute_input": "2022-04-26T19:42:25.996281Z",
     "iopub.status.busy": "2022-04-26T19:42:25.995453Z",
     "iopub.status.idle": "2022-04-26T19:42:26.004487Z",
     "shell.execute_reply": "2022-04-26T19:42:26.003719Z"
    },
    "cell_id": "00033-ac56655f-7748-4bf3-971a-7a49dc0d13d5",
    "deepnote_to_be_reexecuted": false,
    "source_hash": "e72ac349",
    "execution_start": 1665856407726,
    "execution_millis": 19,
    "deepnote_cell_type": "code",
    "deepnote_cell_height": 375
   },
   "source": "# Table 3-5\nrow_average = clicks.mean(axis=1)\npd.DataFrame({\n    'Headline A': row_average,\n    'Headline B': row_average,\n    'Headline C': row_average,\n})",
   "execution_count": null,
   "outputs": [
    {
     "output_type": "execute_result",
     "execution_count": 8,
     "data": {
      "application/vnd.deepnote.dataframe.v3+json": {
       "column_count": 3,
       "row_count": 2,
       "columns": [
        {
         "name": "Headline A",
         "dtype": "float64",
         "stats": {
          "unique_count": 2,
          "nan_count": 0,
          "min": "11.333333333333334",
          "max": "988.6666666666666",
          "histogram": [
           {
            "bin_start": 11.333333333333334,
            "bin_end": 109.06666666666665,
            "count": 1
           },
           {
            "bin_start": 109.06666666666665,
            "bin_end": 206.79999999999998,
            "count": 0
           },
           {
            "bin_start": 206.79999999999998,
            "bin_end": 304.53333333333325,
            "count": 0
           },
           {
            "bin_start": 304.53333333333325,
            "bin_end": 402.2666666666666,
            "count": 0
           },
           {
            "bin_start": 402.2666666666666,
            "bin_end": 499.99999999999994,
            "count": 0
           },
           {
            "bin_start": 499.99999999999994,
            "bin_end": 597.7333333333332,
            "count": 0
           },
           {
            "bin_start": 597.7333333333332,
            "bin_end": 695.4666666666666,
            "count": 0
           },
           {
            "bin_start": 695.4666666666666,
            "bin_end": 793.1999999999999,
            "count": 0
           },
           {
            "bin_start": 793.1999999999999,
            "bin_end": 890.9333333333333,
            "count": 0
           },
           {
            "bin_start": 890.9333333333333,
            "bin_end": 988.6666666666666,
            "count": 1
           }
          ]
         }
        },
        {
         "name": "Headline B",
         "dtype": "float64",
         "stats": {
          "unique_count": 2,
          "nan_count": 0,
          "min": "11.333333333333334",
          "max": "988.6666666666666",
          "histogram": [
           {
            "bin_start": 11.333333333333334,
            "bin_end": 109.06666666666665,
            "count": 1
           },
           {
            "bin_start": 109.06666666666665,
            "bin_end": 206.79999999999998,
            "count": 0
           },
           {
            "bin_start": 206.79999999999998,
            "bin_end": 304.53333333333325,
            "count": 0
           },
           {
            "bin_start": 304.53333333333325,
            "bin_end": 402.2666666666666,
            "count": 0
           },
           {
            "bin_start": 402.2666666666666,
            "bin_end": 499.99999999999994,
            "count": 0
           },
           {
            "bin_start": 499.99999999999994,
            "bin_end": 597.7333333333332,
            "count": 0
           },
           {
            "bin_start": 597.7333333333332,
            "bin_end": 695.4666666666666,
            "count": 0
           },
           {
            "bin_start": 695.4666666666666,
            "bin_end": 793.1999999999999,
            "count": 0
           },
           {
            "bin_start": 793.1999999999999,
            "bin_end": 890.9333333333333,
            "count": 0
           },
           {
            "bin_start": 890.9333333333333,
            "bin_end": 988.6666666666666,
            "count": 1
           }
          ]
         }
        },
        {
         "name": "Headline C",
         "dtype": "float64",
         "stats": {
          "unique_count": 2,
          "nan_count": 0,
          "min": "11.333333333333334",
          "max": "988.6666666666666",
          "histogram": [
           {
            "bin_start": 11.333333333333334,
            "bin_end": 109.06666666666665,
            "count": 1
           },
           {
            "bin_start": 109.06666666666665,
            "bin_end": 206.79999999999998,
            "count": 0
           },
           {
            "bin_start": 206.79999999999998,
            "bin_end": 304.53333333333325,
            "count": 0
           },
           {
            "bin_start": 304.53333333333325,
            "bin_end": 402.2666666666666,
            "count": 0
           },
           {
            "bin_start": 402.2666666666666,
            "bin_end": 499.99999999999994,
            "count": 0
           },
           {
            "bin_start": 499.99999999999994,
            "bin_end": 597.7333333333332,
            "count": 0
           },
           {
            "bin_start": 597.7333333333332,
            "bin_end": 695.4666666666666,
            "count": 0
           },
           {
            "bin_start": 695.4666666666666,
            "bin_end": 793.1999999999999,
            "count": 0
           },
           {
            "bin_start": 793.1999999999999,
            "bin_end": 890.9333333333333,
            "count": 0
           },
           {
            "bin_start": 890.9333333333333,
            "bin_end": 988.6666666666666,
            "count": 1
           }
          ]
         }
        },
        {
         "name": "_deepnote_index_column",
         "dtype": "object"
        }
       ],
       "rows": [
        {
         "Headline A": "11.333333333333334",
         "Headline B": "11.333333333333334",
         "Headline C": "11.333333333333334",
         "_deepnote_index_column": "Click"
        },
        {
         "Headline A": "988.6666666666666",
         "Headline B": "988.6666666666666",
         "Headline C": "988.6666666666666",
         "_deepnote_index_column": "No-click"
        }
       ]
      },
      "text/plain": "          Headline A  Headline B  Headline C\nClick                                       \nClick      11.333333   11.333333   11.333333\nNo-click  988.666667  988.666667  988.666667",
      "text/html": "<div>\n<style scoped>\n    .dataframe tbody tr th:only-of-type {\n        vertical-align: middle;\n    }\n\n    .dataframe tbody tr th {\n        vertical-align: top;\n    }\n\n    .dataframe thead th {\n        text-align: right;\n    }\n</style>\n<table border=\"1\" class=\"dataframe\">\n  <thead>\n    <tr style=\"text-align: right;\">\n      <th></th>\n      <th>Headline A</th>\n      <th>Headline B</th>\n      <th>Headline C</th>\n    </tr>\n    <tr>\n      <th>Click</th>\n      <th></th>\n      <th></th>\n      <th></th>\n    </tr>\n  </thead>\n  <tbody>\n    <tr>\n      <th>Click</th>\n      <td>11.333333</td>\n      <td>11.333333</td>\n      <td>11.333333</td>\n    </tr>\n    <tr>\n      <th>No-click</th>\n      <td>988.666667</td>\n      <td>988.666667</td>\n      <td>988.666667</td>\n    </tr>\n  </tbody>\n</table>\n</div>"
     },
     "metadata": {}
    }
   ]
  },
  {
   "cell_type": "code",
   "metadata": {
    "execution": {
     "iopub.execute_input": "2022-04-26T19:42:26.007379Z",
     "iopub.status.busy": "2022-04-26T19:42:26.007145Z",
     "iopub.status.idle": "2022-04-26T19:42:28.122476Z",
     "shell.execute_reply": "2022-04-26T19:42:28.121752Z"
    },
    "cell_id": "00034-96e2d622-accb-45dd-a626-fcc99dc8f0a8",
    "deepnote_to_be_reexecuted": false,
    "source_hash": "7fb1d143",
    "execution_start": 1665857086700,
    "execution_millis": 2513,
    "deepnote_cell_type": "code",
    "deepnote_cell_height": 765.75
   },
   "source": "# Resampling approach\nbox = [1] * 34\nbox.extend([0] * 2966)\nrandom.shuffle(box)\n\nprint(box)\n\ndef chi2(observed, expected):\n    pearson_residuals = []\n    for row, expect in zip(observed, expected):\n        pearson_residuals.append([(observe - expect) ** 2 / expect\n                                  for observe in row])\n    # return sum of squares\n    return np.sum(pearson_residuals)\n\nexpected_clicks = 34 / 3\nexpected_noclicks = 1000 - expected_clicks\nexpected = [34 / 3, 1000 - 34 / 3]\nchi2observed = chi2(clicks.values, expected)\n\ndef perm_fun(box):\n    # random draw the sample from box and sum up the 1s, which is click\n    sample_clicks = [sum(random.sample(box, 1000)),\n                     sum(random.sample(box, 1000)),\n                     sum(random.sample(box, 1000))]\n    # 1000 - sum of clicks is the number of noclicks\n    sample_noclicks = [1000 - n for n in sample_clicks]\n    return chi2([sample_clicks, sample_noclicks], expected)\n\nperm_chi2 = [perm_fun(box) for _ in range(2000)]\n\nresampled_p_value = sum(perm_chi2 > chi2observed) / len(perm_chi2)\nprint(f'Observed chi2: {chi2observed:.4f}')\nprint(f'Resampled p-value: {resampled_p_value:.4f}')",
   "execution_count": null,
   "outputs": [
    {
     "name": "stdout",
     "text": "[1, 1, 1, 1, 1, 1, 1, 1, 1, 1, 1, 1, 1, 1, 1, 1, 1, 1, 1, 1, 1, 1, 1, 1, 1, 1, 1, 1, 1, 1, 1, 1, 1, 1]\n[0, 0, 0, 0, 0, 0, 0, 0, 0, 0, 0, 0, 0, 0, 0, 0, 0, 0, 0, 0, 0, 0, 0, 0, 0, 0, 0, 0, 0, 0, 0, 0, 0, 0, 0, 0, 0, 0, 0, 0, 0, 1, 0, 0, 0, 0, 0, 0, 0, 0, 0, 0, 0, 0, 0, 0, 0, 0, 0, 0, 1, 0, 0, 0, 0, 0, 0, 0, 0, 0, 0, 0, 0, 0, 0, 0, 0, 0, 0, 0, 0, 0, 0, 0, 0, 0, 0, 0, 0, 0, 0, 0, 0, 0, 0, 0, 0, 0, 0, 0, 0, 0, 0, 0, 0, 0, 0, 0, 0, 0, 0, 0, 0, 0, 0, 0, 0, 0, 0, 0, 0, 0, 0, 0, 0, 0, 0, 0, 0, 0, 0, 0, 0, 0, 0, 0, 0, 0, 0, 0, 0, 0, 0, 0, 0, 0, 0, 0, 0, 0, 0, 0, 0, 0, 0, 0, 0, 0, 0, 0, 0, 0, 0, 0, 0, 0, 0, 0, 0, 0, 0, 0, 0, 0, 0, 0, 0, 0, 0, 0, 0, 0, 0, 0, 0, 0, 0, 0, 0, 0, 0, 0, 0, 0, 0, 0, 0, 0, 0, 0, 0, 0, 0, 0, 0, 0, 0, 0, 0, 0, 0, 0, 0, 0, 0, 0, 0, 0, 0, 0, 0, 0, 0, 0, 0, 0, 0, 0, 0, 0, 0, 0, 0, 0, 0, 0, 0, 0, 1, 0, 0, 0, 0, 0, 0, 0, 0, 0, 0, 0, 0, 0, 0, 0, 0, 0, 0, 0, 0, 0, 0, 0, 0, 0, 0, 0, 0, 0, 0, 0, 0, 0, 0, 0, 0, 0, 0, 0, 0, 0, 0, 0, 0, 0, 0, 0, 0, 0, 0, 0, 0, 0, 0, 0, 0, 0, 0, 0, 0, 0, 0, 0, 0, 0, 0, 0, 0, 0, 0, 0, 0, 0, 0, 0, 0, 0, 0, 0, 0, 0, 0, 0, 0, 0, 0, 0, 0, 0, 0, 0, 0, 0, 0, 0, 0, 0, 0, 0, 0, 0, 0, 0, 0, 0, 0, 0, 0, 0, 0, 0, 0, 0, 0, 0, 0, 0, 0, 0, 0, 0, 0, 0, 0, 0, 0, 1, 0, 0, 0, 0, 0, 0, 0, 0, 0, 0, 0, 0, 0, 0, 0, 0, 0, 0, 0, 0, 0, 0, 0, 0, 0, 0, 0, 0, 0, 0, 0, 0, 0, 0, 0, 0, 0, 0, 0, 0, 0, 0, 0, 0, 0, 0, 0, 0, 0, 0, 0, 0, 0, 0, 0, 0, 0, 0, 0, 0, 0, 0, 0, 0, 0, 0, 0, 0, 0, 0, 0, 0, 0, 0, 0, 0, 0, 0, 0, 0, 0, 0, 0, 0, 0, 0, 0, 0, 0, 0, 0, 0, 0, 0, 0, 0, 0, 0, 0, 0, 0, 0, 0, 0, 0, 0, 0, 0, 0, 0, 0, 0, 0, 0, 0, 0, 1, 0, 0, 0, 0, 0, 0, 0, 0, 0, 0, 0, 0, 0, 0, 0, 0, 0, 0, 0, 0, 0, 0, 0, 0, 0, 0, 0, 0, 0, 0, 0, 0, 0, 0, 0, 0, 0, 0, 0, 0, 0, 0, 0, 1, 0, 0, 0, 0, 0, 0, 0, 0, 0, 0, 0, 0, 0, 0, 0, 0, 0, 0, 0, 0, 0, 0, 0, 0, 0, 0, 0, 0, 0, 0, 0, 0, 0, 0, 0, 0, 0, 0, 0, 0, 0, 0, 0, 0, 0, 0, 0, 0, 0, 0, 0, 0, 0, 0, 0, 0, 0, 0, 0, 0, 0, 0, 0, 0, 0, 0, 0, 0, 0, 0, 0, 0, 0, 0, 0, 0, 0, 0, 0, 0, 0, 0, 0, 0, 0, 0, 0, 0, 0, 0, 0, 0, 0, 0, 0, 0, 0, 0, 0, 0, 0, 0, 0, 0, 0, 0, 0, 0, 0, 0, 0, 0, 0, 0, 0, 0, 0, 0, 0, 0, 0, 0, 0, 0, 0, 0, 0, 0, 0, 0, 0, 0, 0, 0, 0, 0, 0, 0, 0, 0, 0, 0, 0, 0, 0, 0, 0, 0, 0, 0, 0, 1, 0, 0, 0, 0, 0, 0, 0, 0, 0, 0, 0, 0, 0, 0, 0, 0, 0, 0, 0, 0, 0, 0, 0, 0, 0, 0, 0, 0, 0, 0, 0, 0, 0, 0, 0, 0, 0, 0, 0, 0, 0, 0, 0, 0, 0, 0, 0, 0, 0, 0, 0, 0, 0, 0, 0, 0, 0, 0, 0, 0, 0, 0, 0, 0, 0, 0, 0, 0, 0, 0, 0, 0, 0, 0, 0, 0, 0, 0, 0, 0, 0, 0, 0, 0, 0, 0, 0, 0, 0, 0, 0, 0, 0, 0, 0, 1, 0, 0, 0, 0, 0, 0, 0, 0, 0, 0, 1, 0, 0, 0, 0, 0, 0, 0, 0, 0, 0, 0, 0, 0, 0, 0, 0, 0, 0, 0, 0, 0, 0, 0, 0, 0, 0, 0, 0, 0, 0, 0, 0, 0, 0, 0, 0, 0, 0, 0, 0, 0, 0, 0, 0, 0, 0, 0, 0, 0, 0, 0, 0, 0, 0, 0, 0, 0, 0, 0, 0, 0, 0, 0, 0, 0, 0, 0, 0, 0, 0, 0, 0, 0, 0, 0, 0, 0, 0, 0, 0, 1, 0, 0, 0, 0, 0, 0, 0, 0, 0, 0, 0, 0, 0, 0, 0, 0, 0, 0, 0, 0, 0, 0, 0, 0, 0, 0, 0, 0, 0, 0, 0, 0, 1, 0, 0, 0, 0, 0, 0, 0, 0, 0, 0, 1, 0, 0, 0, 0, 0, 0, 0, 0, 0, 0, 0, 0, 0, 0, 0, 0, 0, 0, 0, 0, 0, 0, 0, 0, 0, 0, 0, 0, 0, 0, 0, 1, 0, 0, 0, 0, 0, 0, 0, 0, 0, 0, 0, 0, 0, 0, 0, 0, 0, 0, 0, 0, 0, 0, 0, 0, 0, 0, 0, 0, 0, 0, 0, 0, 0, 1, 0, 0, 0, 0, 0, 0, 0, 0, 0, 0, 0, 0, 0, 0, 0, 0, 1, 0, 0, 0, 0, 0, 0, 0, 0, 0, 0, 0, 0, 0, 0, 0, 0, 0, 0, 0, 0, 0, 0, 0, 0, 0, 0, 0, 0, 0, 0, 0, 0, 0, 0, 0, 0, 0, 0, 0, 0, 0, 0, 0, 0, 0, 0, 0, 0, 0, 0, 0, 0, 0, 0, 0, 0, 0, 0, 0, 0, 0, 0, 0, 0, 0, 0, 0, 0, 0, 0, 0, 0, 0, 0, 0, 0, 0, 0, 0, 0, 0, 0, 0, 0, 0, 0, 0, 0, 0, 0, 0, 0, 0, 0, 0, 0, 0, 0, 0, 0, 0, 0, 0, 0, 0, 0, 0, 0, 0, 0, 0, 0, 0, 0, 0, 0, 0, 0, 0, 0, 0, 0, 0, 0, 0, 0, 0, 0, 0, 0, 0, 0, 0, 0, 0, 0, 0, 0, 0, 0, 0, 0, 0, 0, 0, 0, 0, 0, 0, 0, 0, 0, 0, 0, 0, 1, 0, 0, 0, 0, 0, 0, 0, 0, 0, 0, 0, 0, 0, 0, 0, 0, 0, 0, 0, 0, 0, 0, 0, 0, 0, 0, 0, 0, 0, 0, 0, 0, 0, 0, 0, 0, 1, 0, 0, 0, 0, 0, 0, 0, 0, 0, 0, 0, 0, 0, 0, 0, 0, 0, 0, 0, 0, 0, 0, 0, 0, 0, 0, 0, 0, 0, 0, 0, 0, 0, 0, 0, 0, 0, 0, 0, 0, 0, 0, 0, 0, 0, 0, 0, 0, 0, 0, 0, 1, 0, 0, 0, 0, 0, 0, 0, 0, 0, 0, 0, 0, 0, 0, 0, 0, 0, 0, 0, 0, 0, 0, 0, 0, 0, 0, 0, 0, 0, 0, 0, 0, 0, 0, 0, 0, 0, 0, 0, 0, 0, 0, 0, 0, 0, 0, 0, 0, 0, 0, 0, 0, 0, 0, 0, 0, 1, 0, 0, 0, 1, 0, 0, 0, 0, 0, 0, 0, 0, 0, 0, 0, 0, 0, 0, 0, 0, 0, 0, 0, 0, 0, 0, 0, 0, 0, 0, 0, 0, 0, 0, 0, 0, 0, 0, 0, 0, 0, 0, 0, 0, 0, 0, 0, 0, 0, 0, 0, 0, 0, 0, 0, 0, 0, 0, 0, 0, 0, 0, 0, 0, 0, 0, 0, 0, 0, 0, 0, 0, 0, 0, 0, 0, 0, 0, 0, 0, 0, 0, 0, 0, 0, 0, 0, 0, 0, 0, 0, 0, 0, 0, 0, 0, 0, 0, 0, 0, 0, 0, 0, 0, 0, 0, 0, 0, 0, 0, 0, 0, 0, 0, 0, 0, 0, 0, 0, 0, 0, 0, 0, 0, 0, 0, 0, 0, 0, 0, 0, 0, 0, 0, 0, 0, 0, 0, 0, 0, 0, 0, 0, 0, 0, 0, 0, 0, 0, 0, 0, 0, 0, 0, 0, 0, 0, 0, 0, 0, 0, 0, 0, 0, 0, 0, 0, 0, 0, 0, 0, 0, 0, 0, 0, 0, 0, 0, 1, 0, 0, 0, 0, 0, 0, 0, 0, 0, 0, 0, 0, 0, 0, 0, 0, 0, 0, 0, 0, 0, 0, 0, 0, 0, 0, 0, 0, 0, 0, 0, 0, 0, 0, 0, 0, 0, 0, 0, 0, 0, 0, 0, 0, 0, 0, 0, 0, 0, 0, 0, 0, 0, 0, 0, 0, 0, 0, 0, 0, 0, 0, 0, 0, 0, 0, 0, 0, 0, 0, 0, 0, 0, 0, 1, 0, 0, 0, 0, 0, 0, 0, 0, 0, 0, 0, 0, 0, 0, 0, 0, 0, 0, 0, 0, 0, 0, 0, 0, 0, 0, 0, 0, 0, 0, 0, 0, 0, 0, 0, 0, 0, 0, 0, 0, 0, 0, 0, 0, 0, 0, 0, 0, 0, 0, 0, 0, 0, 0, 0, 0, 0, 0, 0, 0, 0, 0, 0, 0, 0, 0, 0, 0, 0, 0, 0, 0, 0, 0, 0, 0, 0, 0, 0, 0, 0, 0, 0, 0, 0, 0, 0, 0, 0, 0, 0, 0, 0, 0, 0, 0, 0, 0, 0, 0, 0, 0, 0, 0, 0, 0, 0, 0, 0, 0, 0, 0, 0, 0, 0, 0, 0, 0, 0, 0, 0, 0, 0, 0, 0, 0, 0, 0, 0, 0, 0, 0, 0, 0, 0, 0, 0, 0, 0, 0, 0, 0, 0, 0, 0, 0, 0, 0, 0, 0, 0, 0, 0, 0, 0, 0, 0, 0, 0, 0, 0, 0, 0, 0, 0, 0, 0, 0, 0, 0, 0, 0, 0, 0, 0, 0, 0, 0, 0, 0, 0, 0, 0, 0, 0, 0, 0, 0, 0, 0, 0, 0, 0, 0, 0, 0, 0, 0, 0, 0, 0, 0, 0, 0, 0, 0, 0, 1, 0, 0, 0, 0, 0, 0, 0, 0, 0, 0, 0, 0, 0, 0, 0, 0, 0, 0, 0, 0, 0, 0, 0, 0, 0, 0, 0, 0, 0, 0, 0, 0, 0, 0, 0, 0, 0, 0, 0, 0, 0, 0, 0, 0, 0, 0, 0, 0, 0, 0, 0, 0, 0, 0, 0, 0, 0, 0, 0, 0, 0, 0, 0, 0, 0, 0, 0, 0, 0, 0, 0, 0, 0, 0, 0, 0, 0, 0, 0, 0, 0, 0, 0, 0, 0, 0, 0, 0, 0, 0, 0, 0, 0, 0, 0, 0, 0, 0, 0, 0, 1, 0, 0, 0, 0, 0, 0, 0, 0, 0, 0, 0, 0, 0, 0, 0, 0, 0, 0, 0, 0, 0, 0, 0, 0, 0, 0, 0, 0, 0, 0, 0, 0, 0, 0, 0, 0, 0, 0, 0, 0, 0, 0, 0, 0, 0, 0, 0, 0, 0, 0, 0, 0, 0, 0, 0, 0, 0, 0, 0, 0, 0, 0, 0, 0, 0, 0, 0, 0, 0, 0, 0, 0, 0, 0, 0, 0, 0, 0, 0, 0, 1, 0, 0, 0, 0, 0, 0, 0, 0, 0, 0, 0, 0, 0, 0, 0, 0, 0, 0, 0, 0, 0, 0, 0, 0, 0, 0, 0, 0, 0, 0, 0, 0, 0, 0, 0, 0, 0, 0, 0, 0, 0, 0, 0, 0, 0, 0, 0, 0, 0, 0, 0, 0, 0, 0, 0, 0, 0, 0, 0, 0, 0, 0, 0, 0, 0, 0, 0, 0, 0, 0, 0, 0, 0, 0, 0, 0, 0, 0, 0, 0, 0, 0, 0, 0, 0, 0, 0, 0, 0, 0, 0, 0, 0, 0, 0, 0, 0, 0, 0, 0, 0, 0, 0, 0, 0, 0, 0, 0, 0, 0, 0, 0, 0, 0, 0, 0, 0, 0, 0, 0, 0, 0, 0, 0, 0, 0, 0, 0, 0, 0, 0, 0, 0, 0, 0, 0, 0, 0, 0, 0, 0, 0, 0, 1, 0, 0, 0, 0, 0, 0, 0, 0, 0, 0, 0, 0, 0, 0, 0, 0, 0, 0, 0, 0, 0, 0, 0, 0, 0, 0, 0, 0, 0, 0, 0, 0, 0, 0, 0, 0, 0, 0, 0, 0, 0, 0, 0, 0, 0, 0, 0, 0, 0, 0, 0, 0, 0, 0, 0, 0, 0, 0, 0, 0, 0, 0, 0, 0, 0, 0, 0, 0, 0, 0, 0, 0, 0, 0, 0, 0, 0, 0, 0, 0, 0, 0, 0, 0, 0, 0, 0, 0, 0, 0, 0, 0, 0, 0, 0, 0, 0, 0, 0, 0, 0, 0, 0, 0, 0, 0, 0, 0, 0, 0, 0, 0, 0, 0, 0, 0, 0, 0, 0, 0, 0, 0, 0, 0, 0, 0, 0, 0, 0, 0, 0, 0, 0, 0, 0, 0, 0, 0, 0, 0, 0, 0, 0, 0, 0, 0, 0, 0, 0, 0, 0, 0, 0, 0, 0, 0, 0, 0, 0, 0, 0, 0, 0, 0, 0, 0, 0, 0, 0, 0, 0, 0, 0, 0, 0, 1, 0, 0, 0, 0, 0, 0, 0, 0, 0, 0, 0, 0, 0, 0, 0, 0, 0, 0, 0, 0, 0, 0, 0, 0, 0, 0, 0, 0, 0, 0, 0, 0, 0, 0, 0, 0, 0, 0, 0, 0, 0, 0, 0, 0, 0, 0, 0, 0, 0, 0, 0, 0, 0, 0, 0, 0, 0, 0, 0, 0, 0, 0, 0, 0, 0, 0, 0, 0, 0, 0, 0, 0, 0, 0, 0, 0, 0, 0, 0, 0, 0, 0, 0, 0, 0, 0, 0, 0, 0, 0, 0, 0, 0, 0, 0, 0, 0, 0, 0, 0, 0, 0, 0, 0, 0, 0, 0, 0, 0, 0, 0, 0, 0, 0, 0, 0, 0, 0, 0, 0, 0, 0, 0, 0, 0, 0, 0, 0, 0, 0, 0, 0, 0, 0, 0, 0, 0, 0, 0, 0, 0, 0, 0, 0, 0, 0, 0, 0, 0, 0, 0, 0, 0, 0, 0, 0, 0, 0, 0, 0, 0, 0, 0, 0, 0, 0, 0, 0, 0, 0, 0, 0, 0, 0, 0, 0, 0, 0, 0, 0, 0, 0, 0, 0, 0, 0, 0, 0, 0, 0, 0, 0, 0, 0, 0, 0, 0, 0, 0, 0, 0, 0, 0, 0, 0, 1, 0, 0, 0, 0, 0, 0, 0, 0, 0, 0, 0, 0, 0, 0, 0, 0, 0, 0, 0, 0, 0, 0, 0, 0, 0, 0, 0, 0, 0, 0, 0, 0, 0, 0, 1, 0, 0, 0, 0, 0, 0, 0, 0, 0, 0, 0, 0, 0, 0, 0, 0, 0, 0, 0, 0, 0, 0, 0, 0, 0, 0, 0, 0, 0, 0, 0, 0, 0, 0, 0, 0, 0, 0, 0, 0, 0, 0, 0, 0, 0, 0, 0, 0, 0, 0, 0, 0, 0, 0, 0, 0, 0, 0, 0, 0, 0, 0, 0, 0, 0, 0, 0, 0, 0, 0, 0, 0, 0, 0, 0, 0, 0, 0, 0, 0, 0, 0, 0, 0, 0, 0, 0, 0, 0, 0, 0, 0, 0, 0, 0, 0, 0, 0, 0, 0, 0, 0, 0, 0, 0, 0, 0, 0, 0, 0, 0, 0, 0, 0, 0, 0, 0, 0, 0, 0, 0, 0, 0, 0, 0, 0, 0, 0, 0, 0, 1, 0, 0, 0, 0, 0, 0, 0, 0, 0, 0, 0, 0, 0, 0, 0, 0, 0, 0, 0, 0, 0, 0, 0, 0, 0, 0, 0, 0, 0, 0, 0, 0, 0, 0, 0, 0, 0, 0, 0, 0, 0, 0, 0, 0, 0, 0, 0, 0, 0, 0, 0, 0, 0, 0, 0, 0, 0, 0, 0, 0, 0, 0, 0, 0, 0, 0, 0, 0, 0, 0, 0, 1, 0, 0, 0, 0, 0, 0, 0, 0, 0, 0, 0, 0, 0, 0, 0, 0, 0, 0, 0, 0, 0, 0, 0, 0, 0, 0, 0, 0, 0, 0, 0, 0, 0, 0, 0, 0, 0, 0, 0, 0, 0, 0, 0, 0, 0, 0, 0, 0, 0, 0, 0, 0, 0, 0, 0, 0, 0, 0, 0, 0, 0, 0, 0, 0, 0, 0, 0, 0, 0, 0, 0, 0, 0, 0, 0, 0, 0, 0, 0, 0, 0, 0, 0, 0, 0, 0, 0, 0, 0, 0, 0, 0, 0, 0, 0, 0, 0, 0, 0, 0, 0, 0, 0, 0, 0, 0, 0, 0, 0, 0, 0, 0, 1, 0, 0, 0, 0, 0, 0, 0, 0, 0, 0, 0, 0, 0, 0, 0, 0, 0, 0, 0, 0, 0, 0, 0, 0, 0, 0, 0, 0, 0, 0, 1, 0, 0, 0, 0, 0, 0, 0, 0, 0, 0, 0, 0, 0, 0, 0, 0, 0, 0, 0, 0, 0, 0, 0, 0, 0, 0, 0, 0, 0, 0, 0, 0, 0, 0, 0, 0, 0, 0, 0, 0, 0, 0, 0, 0, 0, 0, 0, 0, 0, 0, 0, 0, 0, 0, 0, 0, 0, 0, 0, 0, 0, 0, 0, 0, 0, 0, 0, 0, 0, 0, 0, 0, 0, 0, 0, 0, 0, 0, 0, 0, 0, 0, 0, 0, 0, 0, 0, 0, 0, 0, 0, 0, 0, 0, 0, 0, 0, 0, 0, 0, 0, 0, 0, 0, 0, 0, 0, 0, 0, 0, 0, 0, 0, 0, 0, 0, 0, 0, 0, 0, 0, 0, 1, 0, 0, 0, 0, 0, 0, 0, 0, 0, 0, 0, 0, 0, 0, 0, 0, 0, 0, 0, 0, 0, 0, 0, 0, 0, 0, 0, 0, 0]\nObserved chi2: 1.6659\nResampled p-value: 0.4890\n",
     "output_type": "stream"
    }
   ]
  },
  {
   "cell_type": "code",
   "metadata": {
    "execution": {
     "iopub.execute_input": "2022-04-26T19:42:28.126433Z",
     "iopub.status.busy": "2022-04-26T19:42:28.126032Z",
     "iopub.status.idle": "2022-04-26T19:42:28.132714Z",
     "shell.execute_reply": "2022-04-26T19:42:28.131972Z"
    },
    "cell_id": "00035-eaf82990-72c2-41c9-b55f-470faab0fb1d",
    "deepnote_to_be_reexecuted": false,
    "source_hash": "c9032f77",
    "execution_start": 1665725528068,
    "execution_millis": 4,
    "deepnote_cell_type": "code",
    "deepnote_cell_height": 181.375
   },
   "source": "\nchisq, pvalue, df, expected = stats.chi2_contingency(clicks)\nprint(f'Observed chi2: {chisq:.4f}')\nprint(f'p-value: {pvalue:.4f}')",
   "execution_count": null,
   "outputs": [
    {
     "name": "stdout",
     "text": "Observed chi2: 1.6659\np-value: 0.4348\n",
     "output_type": "stream"
    }
   ]
  },
  {
   "cell_type": "markdown",
   "source": "## Figure chi-sq distribution",
   "metadata": {
    "cell_id": "00036-d86fed81-8661-4f84-9632-f0e58e7c6ce1",
    "deepnote_cell_type": "markdown",
    "deepnote_cell_height": 70
   }
  },
  {
   "cell_type": "code",
   "metadata": {
    "execution": {
     "iopub.execute_input": "2022-04-26T19:42:28.135947Z",
     "iopub.status.busy": "2022-04-26T19:42:28.135769Z",
     "iopub.status.idle": "2022-04-26T19:42:28.518036Z",
     "shell.execute_reply": "2022-04-26T19:42:28.517020Z"
    },
    "cell_id": "00037-85a17396-d34b-4bde-a488-f61a4ef3a404",
    "deepnote_to_be_reexecuted": false,
    "source_hash": "9536c0a4",
    "execution_start": 1665883421719,
    "execution_millis": 1408,
    "deepnote_cell_type": "code",
    "deepnote_cell_height": 675,
    "deepnote_output_heights": [
     241
    ]
   },
   "source": "x = [1 + i * (30 - 1) / 99 for i in range(100)]\n\nchi = pd.DataFrame({\n    'x': x,\n    'chi_1': stats.chi2.pdf(x, df=1),\n    'chi_2': stats.chi2.pdf(x, df=2),\n    'chi_5': stats.chi2.pdf(x, df=5),\n    'chi_10': stats.chi2.pdf(x, df=10),\n    'chi_20': stats.chi2.pdf(x, df=20),\n})\nfig, ax = plt.subplots(figsize=(4, 2.5))\nax.plot(chi.x, chi.chi_1, color='black', linestyle='-', label='1')\nax.plot(chi.x, chi.chi_2, color='black', linestyle=(0, (1, 1)), label='2')\nax.plot(chi.x, chi.chi_5, color='black', linestyle=(0, (2, 1)), label='5')\nax.plot(chi.x, chi.chi_10, color='black', linestyle=(0, (3, 1)), label='10')\nax.plot(chi.x, chi.chi_20, color='black', linestyle=(0, (4, 1)), label='20')\nax.legend(title='df')\n\nplt.tight_layout()\nplt.show()",
   "execution_count": null,
   "outputs": [
    {
     "data": {
      "text/plain": "<Figure size 400x250 with 1 Axes>",
      "image/png": "[encoded data removed]"
     },
     "metadata": {
      "image/png": {
       "width": 398,
       "height": 240
      }
     },
     "output_type": "display_data"
    }
   ]
  },
  {
   "cell_type": "markdown",
   "source": "## Fisher's Exact Test\nScipy has only an implementation of Fisher's Exact test for 2x2 matrices. There is a github repository that provides a Python implementation that uses the same code as the R version. Installing this requires a Fortran compiler. \n```\nstats.fisher_exact(clicks)\n```",
   "metadata": {
    "cell_id": "00038-b33a5844-37dd-4278-96f2-5dbb8fc077fa",
    "deepnote_cell_type": "markdown",
    "deepnote_cell_height": 185.578125
   }
  },
  {
   "cell_type": "code",
   "metadata": {
    "execution": {
     "iopub.execute_input": "2022-04-26T19:42:28.520990Z",
     "iopub.status.busy": "2022-04-26T19:42:28.520672Z",
     "iopub.status.idle": "2022-04-26T19:42:28.524214Z",
     "shell.execute_reply": "2022-04-26T19:42:28.523528Z"
    },
    "cell_id": "00039-7f577966-3565-4057-97fa-239698504ecd",
    "deepnote_to_be_reexecuted": false,
    "source_hash": "3e2c4dc1",
    "execution_start": 1665725528314,
    "execution_millis": 1,
    "deepnote_cell_type": "code",
    "deepnote_cell_height": 76
   },
   "source": "# stats.fisher_exact(clicks.values)",
   "execution_count": null,
   "outputs": []
  },
  {
   "cell_type": "markdown",
   "source": "### Scientific Fraud",
   "metadata": {
    "cell_id": "00040-f4d71a86-0ae9-4add-bf0a-bddee68f7625",
    "deepnote_cell_type": "markdown",
    "deepnote_cell_height": 62
   }
  },
  {
   "cell_type": "code",
   "metadata": {
    "execution": {
     "iopub.execute_input": "2022-04-26T19:42:28.528915Z",
     "iopub.status.busy": "2022-04-26T19:42:28.527903Z",
     "iopub.status.idle": "2022-04-26T19:42:28.657210Z",
     "shell.execute_reply": "2022-04-26T19:42:28.656675Z"
    },
    "cell_id": "00041-6a8b051b-de1a-4a12-b34d-40ff3932bdee",
    "deepnote_to_be_reexecuted": false,
    "source_hash": "f9501ce8",
    "execution_start": 1665725528363,
    "execution_millis": 227,
    "deepnote_cell_type": "code",
    "deepnote_cell_height": 627,
    "deepnote_output_heights": [
     391
    ]
   },
   "source": "imanishi = pd.read_csv(IMANISHI_CSV)\nimanishi.columns = [c.strip() for c in imanishi.columns]\nax = imanishi.plot.bar(x='Digit', y=['Frequency'], legend=False,\n                      figsize=(4, 4))\nax.set_xlabel('Digit')\nax.set_ylabel('Frequency')\n\nplt.tight_layout()\nplt.show()",
   "execution_count": null,
   "outputs": [
    {
     "data": {
      "text/plain": "<Figure size 400x400 with 1 Axes>",
      "image/png": "[encoded data removed]"
     },
     "metadata": {
      "image/png": {
       "width": 390,
       "height": 390
      }
     },
     "output_type": "display_data"
    }
   ]
  },
  {
   "cell_type": "markdown",
   "source": "# Power and Sample Size\n\n\n- **Effect size**: the minimum size of the effect taht we hope to detect in a statistical test, like a 20% imporvement in click rates\n- **Power**: the probability of detecting a given effect size with a given sample size\n**detecting** means a hypothesis test will reject null hypothesis if no difference and conclude there is a real effect\n\n\nstatsmodels has a number of methods for power calculation\n\nsee e.g.: https://machinelearningmastery.com/statistical-power-and-power-analysis-in-python/",
   "metadata": {
    "cell_id": "00042-748a3c21-6114-4b66-b414-9a761a8cf859",
    "deepnote_cell_type": "markdown",
    "deepnote_cell_height": 254.953125
   }
  },
  {
   "cell_type": "markdown",
   "source": "Mostly we want to calculate the required sample size to detect the effect size with a power.\n\nFour elements to caluclate power or required sample size:\n\n1. sample size\n2. effect size\n3. significant level (alpha)\n4. power\n\nExample 1: Calcualte the required sample size to detect the effect size of imporvement from 1.1% to 1.21% with power of 80%, the sample size of 116602 is required.\n\nExample 2: If the power stays the same, the effect size of imporvement from 1.1% to 1.65%, the sample size of 5488 is required.\n",
   "metadata": {
    "cell_id": "046fdf1d2677464ea6becb8b0d977a10",
    "tags": [],
    "deepnote_cell_type": "markdown",
    "deepnote_cell_height": 577.515625
   }
  },
  {
   "cell_type": "code",
   "metadata": {
    "execution": {
     "iopub.execute_input": "2022-04-26T19:42:28.661566Z",
     "iopub.status.busy": "2022-04-26T19:42:28.660330Z",
     "iopub.status.idle": "2022-04-26T19:42:28.669946Z",
     "shell.execute_reply": "2022-04-26T19:42:28.669267Z"
    },
    "cell_id": "00043-6d00a7fa-06e5-4353-acef-2d49f58a50b4",
    "deepnote_to_be_reexecuted": false,
    "source_hash": "a896a710",
    "execution_start": 1666028221835,
    "execution_millis": 697,
    "deepnote_cell_type": "code",
    "deepnote_cell_height": 217.375
   },
   "source": "effect_size = sm.stats.proportion_effectsize(0.0121, 0.011)\nprint(effect_size)\nanalysis = sm.stats.TTestIndPower()\nresult = analysis.solve_power(effect_size=effect_size, \n                              alpha=0.05, power=0.8, alternative='larger')\nprint('Sample Size: %.3f' % result)",
   "execution_count": 1,
   "outputs": [
    {
     "name": "stdout",
     "text": "0.01029785095103608\nSample Size: 116602.393\n",
     "output_type": "stream"
    }
   ]
  },
  {
   "cell_type": "code",
   "metadata": {
    "execution": {
     "iopub.execute_input": "2022-04-26T19:42:28.673223Z",
     "iopub.status.busy": "2022-04-26T19:42:28.672709Z",
     "iopub.status.idle": "2022-04-26T19:42:28.681809Z",
     "shell.execute_reply": "2022-04-26T19:42:28.681009Z"
    },
    "cell_id": "00044-e476d16f-cc7a-437f-ac16-6be8e37a87b4",
    "deepnote_to_be_reexecuted": false,
    "source_hash": "14cae59e",
    "execution_start": 1666028222030,
    "execution_millis": 1,
    "deepnote_cell_type": "code",
    "deepnote_cell_height": 179.1875
   },
   "source": "effect_size = sm.stats.proportion_effectsize(0.0165, 0.011)\nanalysis = sm.stats.TTestIndPower()\nresult = analysis.solve_power(effect_size=effect_size, \n                              alpha=0.05, power=0.8, alternative='larger')\nprint('Sample Size: %.3f' % result)",
   "execution_count": 2,
   "outputs": [
    {
     "name": "stdout",
     "text": "Sample Size: 5488.408\n",
     "output_type": "stream"
    }
   ]
  },
  {
   "cell_type": "code",
   "source": "",
   "metadata": {
    "cell_id": "a8574bbc6e9740b7b840fe070233a255",
    "tags": [],
    "deepnote_cell_type": "code"
   },
   "outputs": [],
   "execution_count": null
  },
  {
   "cell_type": "markdown",
   "source": "<a style='text-decoration:none;line-height:16px;display:flex;color:#5B5B62;padding:10px;justify-content:end;' href='https://deepnote.com?utm_source=created-in-deepnote-cell&projectId=cb61b3b3-7ab4-4e7c-a750-b396f9ef6b6f' target=\"_blank\">\n<img alt='Created in deepnote.com' style='display:inline;max-height:16px;margin:0px;margin-right:7.5px;' src='data:image/svg+xml;base64,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' > </img>\nCreated in <span style='font-weight:600;margin-left:4px;'>Deepnote</span></a>",
   "metadata": {
    "tags": [],
    "created_in_deepnote_cell": true,
    "deepnote_cell_type": "markdown"
   }
  }
 ],
 "nbformat": 4,
 "nbformat_minor": 2,
 "metadata": {
  "kernelspec": {
   "display_name": "Python 3 (ipykernel)",
   "language": "python",
   "name": "python3"
  },
  "language_info": {
   "codemirror_mode": {
    "name": "ipython",
    "version": 3
   },
   "file_extension": ".py",
   "mimetype": "text/x-python",
   "name": "python",
   "nbconvert_exporter": "python",
   "pygments_lexer": "ipython3",
   "version": "3.9.10"
  },
  "deepnote_notebook_id": "62d8de9d-bd92-4485-9964-1cc0edc58146",
  "deepnote": {},
  "deepnote_execution_queue": []
 }
}